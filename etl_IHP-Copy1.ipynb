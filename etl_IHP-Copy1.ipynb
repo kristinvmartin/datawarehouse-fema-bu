{
 "cells": [
  {
   "cell_type": "code",
   "execution_count": null,
   "metadata": {},
   "outputs": [],
   "source": [
    "#import pandas & set display setting\n",
    "\n",
    "import pandas as pd\n"
   ]
  },
  {
   "cell_type": "code",
   "execution_count": null,
   "metadata": {},
   "outputs": [],
   "source": [
    "pd.options.display.max_rows = 20"
   ]
  },
  {
   "cell_type": "code",
   "execution_count": null,
   "metadata": {
    "scrolled": true
   },
   "outputs": [],
   "source": [
    "#to be compared for periodic updates\n",
    "\n",
    "lastEtlDate = pd.to_datetime('20200430', format='%Y%m%d')\n",
    "lastEtlDate = lastEtlDate.date()\n",
    "lastEtlDate"
   ]
  },
  {
   "cell_type": "markdown",
   "metadata": {},
   "source": [
    "## Extract IHP Data"
   ]
  },
  {
   "cell_type": "code",
   "execution_count": null,
   "metadata": {
    "scrolled": false
   },
   "outputs": [],
   "source": [
    "#extract IHP Programs file\n",
    "\n",
    "ihp_cols = ['disasterNumber','state','county','city','zipCode','totalValidRegistrations','ihpReferrals','ihpEligible',\n",
    "           'ihpAmount','haReferrals','haEligible','haAmount','onaReferrals','onaEligible','onaAmount','lastRefresh','id']\n",
    "\n",
    "ihpProgram_src1 = pd.read_csv('https://www.fema.gov/api/open/v1/RegistrationIntakeIndividualsHouseholdPrograms.csv',usecols=ihp_cols)\n",
    "ihpProgram_src1.sort_values('disasterNumber')\n",
    "ihpProgram_src1"
   ]
  },
  {
   "cell_type": "code",
   "execution_count": null,
   "metadata": {},
   "outputs": [],
   "source": [
    "#for comparison with lastEtlDate to handle next ETL run (not implemented here further)\n",
    "\n",
    "ihpProgram_src1['lastRefresh'] = pd.to_datetime(ihpProgram_src1['lastRefresh'].str.slice(0, 10, 1))"
   ]
  },
  {
   "cell_type": "code",
   "execution_count": null,
   "metadata": {},
   "outputs": [],
   "source": [
    "#copy of source for relief fact (for debugging to avoid re-reading file)\n",
    "ihpProgram_src = ihpProgram_src1"
   ]
  },
  {
   "cell_type": "code",
   "execution_count": null,
   "metadata": {
    "scrolled": true
   },
   "outputs": [],
   "source": [
    "ihpProgram_src.info()"
   ]
  },
  {
   "cell_type": "code",
   "execution_count": null,
   "metadata": {
    "scrolled": true
   },
   "outputs": [],
   "source": [
    "#since there are so few,\n",
    "#drop na records that would not key to other dimensional data\n",
    "\n",
    "na_keys = ['disasterNumber','county','city','zipCode']\n",
    "ihpProgram_src.dropna(subset=na_keys,inplace=True)"
   ]
  },
  {
   "cell_type": "code",
   "execution_count": null,
   "metadata": {
    "scrolled": false
   },
   "outputs": [],
   "source": [
    "ihpProgram_src.info()"
   ]
  },
  {
   "cell_type": "markdown",
   "metadata": {},
   "source": [
    "## Extract Disaster Data"
   ]
  },
  {
   "cell_type": "code",
   "execution_count": null,
   "metadata": {},
   "outputs": [],
   "source": [
    "#listed columns for vertical partition of data\n",
    "\n",
    "disaster_cols = ['disasterNumber','declarationType','incidentType','designatedArea','declarationDate']"
   ]
  },
  {
   "cell_type": "code",
   "execution_count": null,
   "metadata": {
    "scrolled": false
   },
   "outputs": [],
   "source": [
    "#extract declared disasters file (OpenFEMA, 'Disaster', 2020)\n",
    "\n",
    "disasterDeclarations_src = pd.read_csv('https://www.fema.gov/api/open/v2/DisasterDeclarationsSummaries.csv',\n",
    "                                       usecols=disaster_cols)\n",
    "disasterDeclarations_src.sort_values('disasterNumber')\n",
    "disasterDeclarations_src.info()"
   ]
  },
  {
   "cell_type": "markdown",
   "metadata": {},
   "source": [
    "# Transforming IHP & Disaster Data"
   ]
  },
  {
   "cell_type": "code",
   "execution_count": null,
   "metadata": {
    "scrolled": false
   },
   "outputs": [],
   "source": [
    "#remove duplicates\n",
    "disasterDeclarations_src.drop_duplicates(subset='disasterNumber',inplace=True)\n",
    "disasterDeclarations_src.info()"
   ]
  },
  {
   "cell_type": "code",
   "execution_count": null,
   "metadata": {},
   "outputs": [],
   "source": [
    "disasterDeclarations_src['incidentType'] = disasterDeclarations_src['incidentType'].str.replace(\"'\",\"''\")\n",
    "disasterDeclarations_src['designatedArea'] = disasterDeclarations_src['designatedArea'].str.replace(\"'\",\"''\")"
   ]
  },
  {
   "cell_type": "code",
   "execution_count": null,
   "metadata": {},
   "outputs": [],
   "source": [
    "#add declaration date for date dimension data\n",
    "\n",
    "ihpProgram_src['calendarDate'] = ihpProgram_src.merge(disasterDeclarations_src,on='disasterNumber',how='inner')['declarationDate']\n",
    "ihpProgram_src.info()"
   ]
  },
  {
   "cell_type": "code",
   "execution_count": null,
   "metadata": {},
   "outputs": [],
   "source": [
    "#drop na rows (na date rows are from recent data that has yet to be loaded into the disaster CSV file)\n",
    "\n",
    "ihpProgram_src.dropna(inplace=True)\n",
    "ihpProgram_src.info()"
   ]
  },
  {
   "cell_type": "code",
   "execution_count": null,
   "metadata": {},
   "outputs": [],
   "source": [
    "#conforming/formatting string column data\n",
    "\n",
    "ihpProgram_src['county'] = ihpProgram_src['county'].str.replace('(','').str.replace(')','').str.replace(\"'\",\"''\")\n",
    "ihpProgram_src['city'] = ihpProgram_src['city'].str.title().str.replace(\"\\\\\",'').str.replace(\"]\",'').str.replace(\"'\",\"''\")\n",
    "ihpProgram_src['calendarDate'] = ihpProgram_src['calendarDate'].str.slice(0, 10, 1)\n"
   ]
  },
  {
   "cell_type": "code",
   "execution_count": null,
   "metadata": {},
   "outputs": [],
   "source": [
    "int_measures = ['totalValidRegistrations','ihpReferrals','ihpEligible','haReferrals','haEligible','onaReferrals','onaEligible']"
   ]
  },
  {
   "cell_type": "code",
   "execution_count": null,
   "metadata": {},
   "outputs": [],
   "source": [
    "ihpProgram_src[int_measures] = ihpProgram_src[int_measures].astype(int)"
   ]
  },
  {
   "cell_type": "code",
   "execution_count": null,
   "metadata": {
    "scrolled": false
   },
   "outputs": [],
   "source": [
    "ihpProgram_src.info()"
   ]
  },
  {
   "cell_type": "markdown",
   "metadata": {},
   "source": [
    "# Loading"
   ]
  },
  {
   "cell_type": "code",
   "execution_count": null,
   "metadata": {},
   "outputs": [],
   "source": [
    "#open connection with db\n",
    "\n",
    "import pyodbc\n",
    "conn = pyodbc.connect('Driver={SQL Server};'\n",
    "                     'Server=MARTINPC-01;'\n",
    "                     'Database=cs689TermProj;'\n",
    "                     'Trusted_Connection=yes;')\n",
    "\n",
    "cursor = conn.cursor()"
   ]
  },
  {
   "cell_type": "markdown",
   "metadata": {},
   "source": [
    "## Load Disaster Dimension"
   ]
  },
  {
   "cell_type": "code",
   "execution_count": null,
   "metadata": {},
   "outputs": [],
   "source": [
    "disaster_dimension = disasterDeclarations_src.loc[:,disaster_cols[:-1]]"
   ]
  },
  {
   "cell_type": "code",
   "execution_count": null,
   "metadata": {},
   "outputs": [],
   "source": [
    "disaster_dimension.info()"
   ]
  },
  {
   "cell_type": "code",
   "execution_count": null,
   "metadata": {},
   "outputs": [],
   "source": [
    "#populate disaster dimension\n",
    "\n",
    "for i, row in disaster_dimension.iterrows():\n",
    "    disaster_sql = \"INSERT INTO cs689TermProj.dbo.Disaster_Dimension(disasterId,\\\n",
    "    femaDisasterNumber,incidentType,designatedArea) VALUES \\\n",
    "    (NEXT VALUE FOR disaster_PK,'\" + str(row.disasterNumber) + \"','\" + str(row.incidentType) + \"', '\" + str(row.designatedArea) + \"');\"\n",
    "    \n",
    "    #print(disaster_sql)\n",
    "    cursor.execute(disaster_sql)"
   ]
  },
  {
   "cell_type": "markdown",
   "metadata": {},
   "source": [
    "## Load Location Dimension"
   ]
  },
  {
   "cell_type": "code",
   "execution_count": null,
   "metadata": {},
   "outputs": [],
   "source": [
    "location_cols = ['county','state','city','zipCode']"
   ]
  },
  {
   "cell_type": "code",
   "execution_count": null,
   "metadata": {},
   "outputs": [],
   "source": [
    "location_dimension = ihpProgram_src.loc[:,location_cols].drop_duplicates(keep='first')"
   ]
  },
  {
   "cell_type": "code",
   "execution_count": null,
   "metadata": {},
   "outputs": [],
   "source": [
    "location_dimension.sort_values(['state','county','city'])\n",
    "location_dimension['locationIndex'] = location_dimension.index\n",
    "location_dimension.info()"
   ]
  },
  {
   "cell_type": "code",
   "execution_count": null,
   "metadata": {},
   "outputs": [],
   "source": [
    "#index created as synthetic key to improve speed in connecting with fact table\n",
    "\n",
    "ihpProgram_src['locationIndex'] = ihpProgram_src.merge(location_dimension, on=location_cols,how='left',indicator=True)['locationIndex']"
   ]
  },
  {
   "cell_type": "code",
   "execution_count": null,
   "metadata": {},
   "outputs": [],
   "source": [
    "for i, row in location_dimension.iterrows():\n",
    "    location_sql = \"INSERT INTO cs689TermProj.dbo.Location_Dimension(locationId,locState,locCounty,locCity,locZipCode,locationIndex) VALUES (NEXT VALUE FOR location_PK,'\" + str(row.state) + \"','\" + str(row.county) + \"','\" + str(row.city) + \"','\" + str(row.zipCode) + \"','\" + str(row.locationIndex) + \"');\"\n",
    "    \n",
    "    #print(location_sql)\n",
    "    cursor.execute(location_sql)"
   ]
  },
  {
   "cell_type": "markdown",
   "metadata": {},
   "source": [
    "## Creation & Loading of the DateTime Dimension"
   ]
  },
  {
   "cell_type": "code",
   "execution_count": null,
   "metadata": {},
   "outputs": [],
   "source": [
    "#create date dimension data w/ pandas datetime (Pandas, 'Time Series / Date functionality', n.d.)\n",
    "#used federal government FYE 9/30 per FEMA website\n",
    "\n",
    "dateTime_dimension = pd.DataFrame({'calendarDate': pd.date_range('1953-01-01','2022-12-31')},)\n",
    "dateTime_dimension['dayOfWeek'] = dateTime_dimension.calendarDate.dt.weekday_name\n",
    "dateTime_dimension['calendarDayOfMonth'] = dateTime_dimension.calendarDate.dt.day\n",
    "dateTime_dimension['calendarMonthOfYear'] = dateTime_dimension.calendarDate.dt.month\n",
    "dateTime_dimension['calendarWeekOfYear'] = dateTime_dimension.calendarDate.dt.weekofyear\n",
    "dateTime_dimension['calendarYear'] = dateTime_dimension.calendarDate.dt.year\n",
    "dateTime_dimension['fiscalQuarter'] = pd.PeriodIndex(dateTime_dimension['calendarDate'], freq='Q-SEP').quarter\n",
    "dateTime_dimension['fiscalYear'] = pd.PeriodIndex(dateTime_dimension['calendarDate'], freq='Q-SEP').year"
   ]
  },
  {
   "cell_type": "code",
   "execution_count": null,
   "metadata": {
    "scrolled": true
   },
   "outputs": [],
   "source": [
    "dateTime_dimension.info()"
   ]
  },
  {
   "cell_type": "code",
   "execution_count": null,
   "metadata": {},
   "outputs": [],
   "source": [
    "cursor.execute('commit')"
   ]
  },
  {
   "cell_type": "code",
   "execution_count": null,
   "metadata": {
    "scrolled": false
   },
   "outputs": [],
   "source": [
    "#populate dateTime dimension\n",
    "\n",
    "for i, row in dateTime_dimension.iterrows():\n",
    "    dateTime_sql = \"INSERT INTO cs689TermProj.dbo.DateTime_Dimension(dateTimeId, calendarDate, \\\n",
    "    calendarDayOfWeek, calendarDayOfMonth, calendarMonthOfYear, calendarWeekOfYear, calendarYear, fiscalQuarter, fiscalYear)\\\n",
    "    VALUES (NEXT VALUE FOR dateTime_PK,'\" + str(row.calendarDate) + \"','\" + str(row.dayOfWeek) + \"',\\\n",
    "    '\" + str(row.calendarDayOfMonth) + \"','\" + str(row.calendarMonthOfYear) + \"','\" + str(row.calendarWeekOfYear) + \"',\\\n",
    "    '\" + str(row.calendarYear) + \"','\" + str(row.fiscalQuarter) + \"','\" + str(row.fiscalYear) + \"');\"\n",
    "    \n",
    "    #print(dateTime_sql)\n",
    "    cursor.execute(dateTime_sql)"
   ]
  },
  {
   "cell_type": "markdown",
   "metadata": {},
   "source": [
    "## Load Relief Fact Data"
   ]
  },
  {
   "cell_type": "code",
   "execution_count": null,
   "metadata": {},
   "outputs": [],
   "source": [
    "#get synthetic keys from DBMS\n",
    "\n",
    "location_keys = pd.read_sql_query(\n",
    "    'SELECT locationId, locationIndex FROM dbo.Location_Dimension',conn)\n",
    "disaster_keys = pd.read_sql_query(\n",
    "    'SELECT disasterId,femaDisasterNumber AS disasterNumber FROM dbo.Disaster_Dimension',conn)\n",
    "dateTime_keys = pd.read_sql_query(\n",
    "    'SELECT dateTimeId,calendarDate FROM dbo.DateTime_Dimension',conn)"
   ]
  },
  {
   "cell_type": "code",
   "execution_count": null,
   "metadata": {},
   "outputs": [],
   "source": [
    "#add synthetic key columns\n",
    "\n",
    "ihpProgram_src['disasterId'] = ihpProgram_src.merge(disaster_keys,on='disasterNumber',how='left',indicator=True)['disasterId']\n",
    "ihpProgram_src['locationId'] = ihpProgram_src.merge(location_keys,on='locationIndex',how='left',indicator=True)['locationId']\n",
    "ihpProgram_src['dateTimeId'] = ihpProgram_src.merge(dateTime_keys, on='calendarDate',how='left',indicator=True)['dateTimeId']"
   ]
  },
  {
   "cell_type": "code",
   "execution_count": null,
   "metadata": {},
   "outputs": [],
   "source": [
    "relief_cols = ['disasterId','locationId','dateTimeId','totalValidRegistrations',\n",
    "               'ihpReferrals','ihpEligible','ihpAmount','haReferrals','haEligible',\n",
    "               'haAmount','onaReferrals','onaEligible','onaAmount']"
   ]
  },
  {
   "cell_type": "code",
   "execution_count": null,
   "metadata": {},
   "outputs": [],
   "source": [
    "relief_fact = ihpProgram_src.loc[:,relief_cols]"
   ]
  },
  {
   "cell_type": "code",
   "execution_count": null,
   "metadata": {},
   "outputs": [],
   "source": [
    "relief_fact.info()"
   ]
  },
  {
   "cell_type": "code",
   "execution_count": null,
   "metadata": {},
   "outputs": [],
   "source": [
    "relief_fact.dropna(inplace=True)"
   ]
  },
  {
   "cell_type": "code",
   "execution_count": null,
   "metadata": {},
   "outputs": [],
   "source": [
    "relief_fact.info()"
   ]
  },
  {
   "cell_type": "code",
   "execution_count": null,
   "metadata": {},
   "outputs": [],
   "source": [
    "for i,row in relief_fact.iterrows():\n",
    "    relief_sql = \"INSERT INTO cs689TermProj.dbo.Relief_Fact(disasterId,locationId,dateTimeId,\\\n",
    "    totalValidRegistrations,ihpReferrals,ihpEligible,ihpAmount,haReferrals,haEligible,haAmount,\\\n",
    "    onaReferrals,onaEligible,onaAmount) VALUES ('\" + str(row.disasterId) + \"',\\\n",
    "    '\" + str(row.locationId) + \"','\" + str(row.dateTimeId) + \"','\" + str(row.totalValidRegistrations.astype(int)) + \"',\\\n",
    "    '\" + str(row.ihpReferrals.astype(int)) + \"','\" + str(row.ihpEligible.astype(int)) + \"','\" + str(row.ihpAmount) + \"',\\\n",
    "    '\" + str(row.haReferrals.astype(int)) + \"','\" + str(row.haEligible.astype(int)) + \"','\" + str(row.haAmount) + \"',\\\n",
    "    '\" + str(row.onaReferrals.astype(int)) + \"','\" + str(row.onaEligible.astype(int)) + \"','\" + str(row.onaAmount) + \"');\"\n",
    "    \n",
    "    print(relief_sql)\n",
    "    cursor.execute(relief_sql)"
   ]
  },
  {
   "cell_type": "code",
   "execution_count": null,
   "metadata": {
    "scrolled": true
   },
   "outputs": [],
   "source": [
    "cursor.execute('commit')"
   ]
  },
  {
   "cell_type": "code",
   "execution_count": null,
   "metadata": {},
   "outputs": [],
   "source": []
  }
 ],
 "metadata": {
  "kernelspec": {
   "display_name": "Python 3",
   "language": "python",
   "name": "python3"
  },
  "language_info": {
   "codemirror_mode": {
    "name": "ipython",
    "version": 3
   },
   "file_extension": ".py",
   "mimetype": "text/x-python",
   "name": "python",
   "nbconvert_exporter": "python",
   "pygments_lexer": "ipython3",
   "version": "3.7.1"
  }
 },
 "nbformat": 4,
 "nbformat_minor": 2
}
